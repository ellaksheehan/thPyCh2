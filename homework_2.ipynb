{
 "cells": [
  {
   "cell_type": "markdown",
   "metadata": {},
   "source": [
    "### Chapter 2 - Variables, Expressions, and Statements"
   ]
  },
  {
   "cell_type": "code",
   "execution_count": 2,
   "metadata": {},
   "outputs": [
    {
     "name": "stdout",
     "output_type": "stream",
     "text": [
      "5\n"
     ]
    }
   ],
   "source": [
    "#Assignment Statements\n",
    "#eg. \"x gets 5\"\n",
    "x = 5 # this is assignment.  It stores a value in a variable.\n",
    "print(x)"
   ]
  },
  {
   "cell_type": "markdown",
   "metadata": {},
   "source": [
    "This instructs the computer to store or record a data value in a place in computer memory.\n",
    "What is memory?   _______\n",
    "___\n",
    "One way we can visualize what is stored where is by drawing a state diagram, with each variable pointing with an arrow to its value.  \n",
    "x --> 5\n",
    "____"
   ]
  },
  {
   "cell_type": "markdown",
   "metadata": {},
   "source": [
    "Variable Names  \n",
    "Variable names should be descriptive and meaningful, without being too long/cumbersome (although they can be as long as you like).  They should document what the variable is used for. They can contain letters and numbers, but can't begin with a number.  You can use upper and lowercase letters, though one convention is to only use lowercase.  \n",
    "The underscore can appear in variable names and is used in place of a space.  \n",
    "E.g. my_variable = 3"
   ]
  },
  {
   "cell_type": "code",
   "execution_count": 5,
   "metadata": {},
   "outputs": [],
   "source": [
    "my_variable = 3  #this use of _ is called \"snake case\"\n",
    "#which is contrasted with \"camel case\"\n",
    "myVariable = 3  #Python typically uses snake case"
   ]
  },
  {
   "cell_type": "code",
   "execution_count": 7,
   "metadata": {},
   "outputs": [
    {
     "ename": "SyntaxError",
     "evalue": "invalid syntax (<ipython-input-7-29b1a4bdb2ad>, line 1)",
     "output_type": "error",
     "traceback": [
      "\u001b[0;36m  File \u001b[0;32m\"<ipython-input-7-29b1a4bdb2ad>\"\u001b[0;36m, line \u001b[0;32m1\u001b[0m\n\u001b[0;31m    5q = 4 #this will cause an error\u001b[0m\n\u001b[0m     ^\u001b[0m\n\u001b[0;31mSyntaxError\u001b[0m\u001b[0;31m:\u001b[0m invalid syntax\n"
     ]
    }
   ],
   "source": [
    "5q = 4 #this will cause an error"
   ]
  },
  {
   "cell_type": "markdown",
   "metadata": {},
   "source": [
    "Reserved Keywords\n",
    "Python has some keywords that are illegal to use as variable names, because they are reserved for other purposes.  \n",
    "- False      class      finally    is         return\n",
    "- None       continue   for        lambda     try\n",
    "- True       def        from       nonlocal   while\n",
    "- and        del        global     not        with\n",
    "- as         elif       if         or         yield\n",
    "- assert     else       import     pass\n",
    "- break      except     in         raise"
   ]
  },
  {
   "cell_type": "markdown",
   "metadata": {},
   "source": [
    "____\n",
    "Expressions"
   ]
  },
  {
   "cell_type": "code",
   "execution_count": 9,
   "metadata": {},
   "outputs": [
    {
     "data": {
      "text/plain": [
       "42"
      ]
     },
     "execution_count": 9,
     "metadata": {},
     "output_type": "execute_result"
    }
   ],
   "source": [
    "#An expression is a combination of values, variables and operators, much like in math.\n",
    "42"
   ]
  },
  {
   "cell_type": "code",
   "execution_count": 10,
   "metadata": {},
   "outputs": [
    {
     "data": {
      "text/plain": [
       "42"
      ]
     },
     "execution_count": 10,
     "metadata": {},
     "output_type": "execute_result"
    }
   ],
   "source": [
    "6*7"
   ]
  },
  {
   "cell_type": "code",
   "execution_count": 12,
   "metadata": {},
   "outputs": [
    {
     "data": {
      "text/plain": [
       "42"
      ]
     },
     "execution_count": 12,
     "metadata": {},
     "output_type": "execute_result"
    }
   ],
   "source": [
    "x+37"
   ]
  },
  {
   "cell_type": "code",
   "execution_count": 13,
   "metadata": {},
   "outputs": [
    {
     "name": "stdout",
     "output_type": "stream",
     "text": [
      "12\n"
     ]
    }
   ],
   "source": [
    "#a statement is a unit of code that has an effect, like creating a variable or displaying something\n",
    "y = 12\n",
    "print(y)"
   ]
  },
  {
   "cell_type": "markdown",
   "metadata": {},
   "source": [
    "____\n",
    "Script/interactive mode"
   ]
  },
  {
   "cell_type": "markdown",
   "metadata": {},
   "source": [
    "-Python can work in interactive mode or script mode.  \n",
    "-Jupyter behaves a bit like a hybrid of the two."
   ]
  },
  {
   "cell_type": "markdown",
   "metadata": {},
   "source": [
    "String operations\n"
   ]
  },
  {
   "cell_type": "code",
   "execution_count": 3,
   "metadata": {},
   "outputs": [],
   "source": [
    "import test_script #this is a script, ie. a program \n",
    "import math #this is a module - i.e. instructions on python ut \n"
   ]
  },
  {
   "cell_type": "code",
   "execution_count": 5,
   "metadata": {},
   "outputs": [
    {
     "data": {
      "text/plain": [
       "'hello hello hello hello hello '"
      ]
     },
     "execution_count": 5,
     "metadata": {},
     "output_type": "execute_result"
    }
   ],
   "source": [
    "#you can \"add or concentrate strings\"\n",
    "\"hello \"*(5)"
   ]
  },
  {
   "cell_type": "code",
   "execution_count": null,
   "metadata": {
    "collapsed": true
   },
   "outputs": [],
   "source": []
  },
  {
   "cell_type": "code",
   "execution_count": 14,
   "metadata": {},
   "outputs": [
    {
     "data": {
      "text/plain": [
       "'hello world'"
      ]
     },
     "execution_count": 14,
     "metadata": {},
     "output_type": "execute_result"
    }
   ],
   "source": [
    "#you can \"add\" or concatenate strings, or \"multiply\" or repeat strings\n",
    "\"hello\"+ \" \" + \"world\"\n"
   ]
  },
  {
   "cell_type": "code",
   "execution_count": 16,
   "metadata": {},
   "outputs": [
    {
     "data": {
      "text/plain": [
       "'hello hello hello hello hello '"
      ]
     },
     "execution_count": 16,
     "metadata": {},
     "output_type": "execute_result"
    }
   ],
   "source": [
    "\"hello \" * 5"
   ]
  },
  {
   "cell_type": "code",
   "execution_count": null,
   "metadata": {},
   "outputs": [],
   "source": [
    "my_input = input() #note- input() always stores as a STRING"
   ]
  },
  {
   "cell_type": "code",
   "execution_count": null,
   "metadata": {},
   "outputs": [],
   "source": [
    "my_input = input()\n"
   ]
  },
  {
   "cell_type": "code",
   "execution_count": null,
   "metadata": {},
   "outputs": [],
   "source": [
    "user_in = input \"type a number\""
   ]
  },
  {
   "cell_type": "markdown",
   "metadata": {},
   "source": [
    "Comments"
   ]
  },
  {
   "cell_type": "code",
   "execution_count": null,
   "metadata": {},
   "outputs": [],
   "source": [
    "#code in python can be \"commented\" by beginning the comment with a #\n",
    "#however, the comment status only lasts until the end of the line\n",
    "'''You can, however, make block comments in some environments by using three apostrophes! \n",
    "This occasionally can cause some errors, though, so be alert!'''\n",
    "#for example, jupyter doesn't really properly handle block comments"
   ]
  },
  {
   "cell_type": "markdown",
   "metadata": {},
   "source": [
    "### Exercises"
   ]
  },
  {
   "cell_type": "markdown",
   "metadata": {},
   "source": [
    "Exercise 1  \n",
    "Repeating my advice from the previous chapter, whenever you learn a new feature, you should try it out in interactive mode and make errors on purpose to see what goes wrong.\n",
    "We’ve seen that n = 42 is legal. What about 42 = n?\n",
    "How about x = y = 1?\n",
    "In some languages every statement ends with a semi-colon, ;. What happens if you put a semi-colon at the end of a Python statement?\n",
    "What if you put a period at the end of a statement?\n",
    "In math notation you can multiply x and y like this: x y. What happens if you try that in Python?\n"
   ]
  },
  {
   "cell_type": "markdown",
   "metadata": {},
   "source": [
    "Exercise 2  \n",
    "Practice using the Python interpreter as a calculator:\n",
    "The volume of a sphere with radius r is 4/3 π r3. What is the volume of a sphere with radius 5?\n",
    "Suppose the cover price of a book is  24.95 but bookstores get a 40 percent discount. Shipping costs $3 for the first copy and 75 cents for each additional copy. What is the total wholesale cost for 60 copies?\n",
    "If I leave my house at 6:52 am and run 1 mile at an easy pace (8:15 per mile), then 3 miles at tempo (7:12 per mile) and 1 mile at easy pace again, what time do I get home for breakfast?"
   ]
  },
  {
   "cell_type": "code",
   "execution_count": 16,
   "metadata": {},
   "outputs": [
    {
     "name": "stdout",
     "output_type": "stream",
     "text": [
      "5.0\n"
     ]
    }
   ],
   "source": [
    " x = 5. \n",
    "print(x)"
   ]
  },
  {
   "cell_type": "code",
   "execution_count": 17,
   "metadata": {},
   "outputs": [
    {
     "name": "stdout",
     "output_type": "stream",
     "text": [
      "5\n"
     ]
    }
   ],
   "source": [
    "x = 5;\n",
    "print(x)"
   ]
  },
  {
   "cell_type": "code",
   "execution_count": 18,
   "metadata": {},
   "outputs": [
    {
     "ename": "SyntaxError",
     "evalue": "invalid syntax (626986391.py, line 1)",
     "output_type": "error",
     "traceback": [
      "\u001b[0;36m  File \u001b[0;32m\"/var/folders/y2/vh_whrk943g245_pv3tgzms80000gn/T/ipykernel_15623/626986391.py\"\u001b[0;36m, line \u001b[0;32m1\u001b[0m\n\u001b[0;31m    a = xy.\u001b[0m\n\u001b[0m            ^\u001b[0m\n\u001b[0;31mSyntaxError\u001b[0m\u001b[0;31m:\u001b[0m invalid syntax\n"
     ]
    }
   ],
   "source": [
    "a = xy. \n",
    "print(a)"
   ]
  },
  {
   "cell_type": "code",
   "execution_count": 5,
   "metadata": {},
   "outputs": [
    {
     "name": "stdout",
     "output_type": "stream",
     "text": [
      "20\n"
     ]
    }
   ],
   "source": [
    "x = 5 \n",
    "y = 4 \n",
    "print (x*y)"
   ]
  },
  {
   "cell_type": "code",
   "execution_count": 19,
   "metadata": {},
   "outputs": [
    {
     "name": "stdout",
     "output_type": "stream",
     "text": [
      "25.132741228718345\n"
     ]
    }
   ],
   "source": [
    "import math \n",
    "v = (4/3 * math.pi)*(5^3)\n",
    "print (v)"
   ]
  },
  {
   "cell_type": "code",
   "execution_count": 20,
   "metadata": {},
   "outputs": [
    {
     "data": {
      "text/plain": [
       "62.22"
      ]
     },
     "execution_count": 20,
     "metadata": {},
     "output_type": "execute_result"
    }
   ],
   "source": [
    "3+ 24.95*(.6) + (.75*59) "
   ]
  },
  {
   "cell_type": "code",
   "execution_count": 27,
   "metadata": {},
   "outputs": [
    {
     "data": {
      "text/plain": [
       "38.0"
      ]
     },
     "execution_count": 27,
     "metadata": {},
     "output_type": "execute_result"
    }
   ],
   "source": [
    "7.12*(3) + (2*8.15)  - .66 + 1 + \n"
   ]
  },
  {
   "cell_type": "code",
   "execution_count": 28,
   "metadata": {},
   "outputs": [
    {
     "ename": "SyntaxError",
     "evalue": "invalid syntax (2096781797.py, line 1)",
     "output_type": "error",
     "traceback": [
      "\u001b[0;36m  File \u001b[0;32m\"/var/folders/y2/vh_whrk943g245_pv3tgzms80000gn/T/ipykernel_16389/2096781797.py\"\u001b[0;36m, line \u001b[0;32m1\u001b[0m\n\u001b[0;31m    time = 7:30\u001b[0m\n\u001b[0m            ^\u001b[0m\n\u001b[0;31mSyntaxError\u001b[0m\u001b[0;31m:\u001b[0m invalid syntax\n"
     ]
    }
   ],
   "source": [
    "time = 7:30"
   ]
  },
  {
   "cell_type": "code",
   "execution_count": null,
   "metadata": {},
   "outputs": [],
   "source": [
    "#Conditioinal logic \n",
    "#Computers need ability to do different things based on different conditions at a given time\n",
    "x = float(input('Enter a number'))\n",
    "if x > 0: \n",
    "        print('x is positive!') \n",
    "        print ('hooray!')\n",
    "print ('this always prints')"
   ]
  },
  {
   "cell_type": "code",
   "execution_count": 3,
   "metadata": {},
   "outputs": [
    {
     "name": "stdout",
     "output_type": "stream",
     "text": [
      "y is positive\n"
     ]
    }
   ],
   "source": [
    "y = 2\n",
    "if y > 0:\n",
    "    print('y is positive') \n",
    "else: \n",
    "        print('y is non-positive')"
   ]
  },
  {
   "cell_type": "code",
   "execution_count": 2,
   "metadata": {},
   "outputs": [
    {
     "name": "stdout",
     "output_type": "stream",
     "text": [
      "z is positive\n"
     ]
    }
   ],
   "source": [
    "z = 3 \n",
    "if z > 0:\n",
    "        print('z is positive') \n",
    "elif z < 0:\n",
    "        print('z is negative')\n",
    "else: \n",
    "        print('z is zero')\n",
    "    "
   ]
  },
  {
   "cell_type": "code",
   "execution_count": 2,
   "metadata": {},
   "outputs": [
    {
     "name": "stdout",
     "output_type": "stream",
     "text": [
      "Enter a number: 10\n",
      "x is positive!\n",
      "hooray!\n",
      "this always prints\n"
     ]
    }
   ],
   "source": [
    "#Conditioinal logic \n",
    "#Computers need ability to do different things based on different conditions at a given time\n",
    "x = float(input('Enter a number: '))\n",
    "if x > 0: \n",
    "        print('x is positive!') \n",
    "        print ('hooray!')\n",
    "print ('this always prints')"
   ]
  },
  {
   "cell_type": "code",
   "execution_count": 13,
   "metadata": {},
   "outputs": [
    {
     "name": "stdout",
     "output_type": "stream",
     "text": [
      "z is 0\n"
     ]
    }
   ],
   "source": [
    "z = 0\n",
    "bignumber = 100 \n",
    "if z > 0: \n",
    "        print('z is positive')\n",
    "        if z >= bignumber: \n",
    "                print('z is also big!')\n",
    "        else: \n",
    "                print('z is not so big')\n",
    "elif z < 0: \n",
    "        print ('z is negtive')\n",
    "        if abs(z) >= bignumber: \n",
    "                print('z has large magnitude')\n",
    "        else:\n",
    "                print('z does not have large magnitude')\n",
    "else: \n",
    "        print('z is 0')"
   ]
  },
  {
   "cell_type": "code",
   "execution_count": 14,
   "metadata": {},
   "outputs": [
    {
     "ename": "SyntaxError",
     "evalue": "invalid syntax (204633709.py, line 2)",
     "output_type": "error",
     "traceback": [
      "\u001b[0;36m  File \u001b[0;32m\"/var/folders/y2/vh_whrk943g245_pv3tgzms80000gn/T/ipykernel_8660/204633709.py\"\u001b[0;36m, line \u001b[0;32m2\u001b[0m\n\u001b[0;31m    to represent a color (red/blue) and our shape (circle/sphere) and write a message using conditional\u001b[0m\n\u001b[0m       ^\u001b[0m\n\u001b[0;31mSyntaxError\u001b[0m\u001b[0;31m:\u001b[0m invalid syntax\n"
     ]
    }
   ],
   "source": [
    "# challenge : take 2 user inputs, storing them in different variables,  \n",
    "to represent a color (red/blue) and our shape (circle/sphere) and write a message using conditional \n",
    "logic to describe the input\n",
    "\n"
   ]
  },
  {
   "cell_type": "code",
   "execution_count": 14,
   "metadata": {},
   "outputs": [
    {
     "ename": "SyntaxError",
     "evalue": "invalid syntax (1299713031.py, line 2)",
     "output_type": "error",
     "traceback": [
      "\u001b[0;36m  File \u001b[0;32m\"/var/folders/y2/vh_whrk943g245_pv3tgzms80000gn/T/ipykernel_15623/1299713031.py\"\u001b[0;36m, line \u001b[0;32m2\u001b[0m\n\u001b[0;31m    if color == red\u001b[0m\n\u001b[0m                   ^\u001b[0m\n\u001b[0;31mSyntaxError\u001b[0m\u001b[0;31m:\u001b[0m invalid syntax\n"
     ]
    }
   ],
   "source": [
    "x = float('Pick a color: red or blue')\n",
    "if color == red\n",
    "if color == blue\n",
    "if x = red:\n",
    "        x = c1\n",
    "elif x = blue:\n",
    "        x = c2\n"
   ]
  },
  {
   "cell_type": "code",
   "execution_count": 15,
   "metadata": {},
   "outputs": [
    {
     "name": "stdout",
     "output_type": "stream",
     "text": [
      "Pick a color: red\n",
      "you like red\n",
      "Pick a shape, circle or sphere: circle\n",
      "you like circles\n"
     ]
    }
   ],
   "source": [
    "a = input(\"Pick a color: \")\n",
    "if a == 'red': \n",
    "    print('you like red')\n",
    "elif my_color == 'blue':\n",
    "    print('you like blue')\n",
    "elif my_color == 'yellow':\n",
    "    print('you like yellow')\n",
    "else: \n",
    "    print('you like another color')\n",
    "    \n",
    "b = input(\"Pick a shape:\")\n",
    "if b == 'circle': \n",
    "    print('you like circles')\n",
    "elif b == 'sphere': \n",
    "    print ('you like spheres')\n",
    "elif b == 'triangle': \n",
    "    print ('you like triangles')\n",
    "elif b == 'square':\n",
    "    print ('you like squares')\n",
    "else: \n",
    "    print('you like another shape')\n",
    "\n"
   ]
  },
  {
   "cell_type": "code",
   "execution_count": 8,
   "metadata": {},
   "outputs": [
    {
     "name": "stdout",
     "output_type": "stream",
     "text": [
      "enter a color\n",
      "red \n",
      "enter a shape\n",
      "square\n",
      "you really like red squares\n",
      "you really like red  square s\n"
     ]
    },
    {
     "ename": "ValueError",
     "evalue": "Invalid format specifier",
     "output_type": "error",
     "traceback": [
      "\u001b[0;31m---------------------------------------------------------------------------\u001b[0m",
      "\u001b[0;31mValueError\u001b[0m                                Traceback (most recent call last)",
      "\u001b[0;32m/var/folders/y2/vh_whrk943g245_pv3tgzms80000gn/T/ipykernel_16389/2111433778.py\u001b[0m in \u001b[0;36m<module>\u001b[0;34m\u001b[0m\n\u001b[1;32m      4\u001b[0m \u001b[0mprint\u001b[0m\u001b[0;34m(\u001b[0m\u001b[0;34m\"you really like \"\u001b[0m\u001b[0;34m+\u001b[0m\u001b[0mi1\u001b[0m\u001b[0;34m+\u001b[0m\u001b[0;34m\"\"\u001b[0m \u001b[0;34m+\u001b[0m\u001b[0mi2\u001b[0m\u001b[0;34m+\u001b[0m\u001b[0;34m\"s\"\u001b[0m\u001b[0;34m)\u001b[0m\u001b[0;34m\u001b[0m\u001b[0;34m\u001b[0m\u001b[0m\n\u001b[1;32m      5\u001b[0m \u001b[0mprint\u001b[0m\u001b[0;34m(\u001b[0m\u001b[0;34m'you really like'\u001b[0m\u001b[0;34m,\u001b[0m \u001b[0mi1\u001b[0m\u001b[0;34m,\u001b[0m \u001b[0mi2\u001b[0m\u001b[0;34m,\u001b[0m\u001b[0;34m's'\u001b[0m\u001b[0;34m)\u001b[0m\u001b[0;34m\u001b[0m\u001b[0;34m\u001b[0m\u001b[0m\n\u001b[0;32m----> 6\u001b[0;31m \u001b[0mprint\u001b[0m\u001b[0;34m(\u001b[0m\u001b[0;34m\"you really like {} {}s\"\u001b[0m\u001b[0;34m,\u001b[0m \u001b[0mformat\u001b[0m\u001b[0;34m(\u001b[0m\u001b[0mi1\u001b[0m\u001b[0;34m,\u001b[0m \u001b[0mi2\u001b[0m\u001b[0;34m)\u001b[0m\u001b[0;34m)\u001b[0m\u001b[0;34m\u001b[0m\u001b[0;34m\u001b[0m\u001b[0m\n\u001b[0m",
      "\u001b[0;31mValueError\u001b[0m: Invalid format specifier"
     ]
    }
   ],
   "source": [
    "i1 = input('enter a color\\n')\n",
    "i2 = input('enter a shape\\n')\n",
    "\n",
    "print(\"you really like \"+i1+\"\" +i2+\"s\")\n",
    "print('you really like', i1, i2,'s')\n",
    "print(\"you really like {} {}s\", format(i1, i2))"
   ]
  },
  {
   "cell_type": "code",
   "execution_count": null,
   "metadata": {},
   "outputs": [
    {
     "name": "stdout",
     "output_type": "stream",
     "text": [
      "1\n",
      "1\n",
      "2\n"
     ]
    }
   ],
   "source": [
    "# modulus operator: % does division and returns only the remainder \n",
    "print (5%4) #1 remainder 1\n",
    "print (7%2) #3 remainder 1\n",
    "print (11 % 3) #3 remainder 2\n",
    "#very useful for checking whether or not a number is even \n",
    "x = int(input(\"Enter an integer \"))\n",
    "if (x%2 == 0):\n",
    "        print(\"x is even\")"
   ]
  },
  {
   "cell_type": "code",
   "execution_count": null,
   "metadata": {},
   "outputs": [],
   "source": []
  }
 ],
 "metadata": {
  "kernelspec": {
   "display_name": "Python 3 (ipykernel)",
   "language": "python",
   "name": "python3"
  },
  "language_info": {
   "codemirror_mode": {
    "name": "ipython",
    "version": 3
   },
   "file_extension": ".py",
   "mimetype": "text/x-python",
   "name": "python",
   "nbconvert_exporter": "python",
   "pygments_lexer": "ipython3",
   "version": "3.9.7"
  }
 },
 "nbformat": 4,
 "nbformat_minor": 4
}
